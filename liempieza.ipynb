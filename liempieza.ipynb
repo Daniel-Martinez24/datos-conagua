{
 "cells": [
  {
   "cell_type": "code",
   "metadata": {
    "tags": [],
    "cell_id": "00000-282d7ec9-1543-451c-a23c-4be425256fa6",
    "deepnote_cell_type": "code"
   },
   "source": "import pandas as pd\nfrom tabulate import tabulate",
   "execution_count": null,
   "outputs": []
  },
  {
   "cell_type": "code",
   "metadata": {
    "tags": [],
    "cell_id": "00001-5513a582-b7d5-44ad-a2a6-e166dbf78d16",
    "deepnote_to_be_reexecuted": false,
    "source_hash": "28af2ed9",
    "execution_start": 1625685028086,
    "execution_millis": 0,
    "deepnote_cell_type": "code"
   },
   "source": "def limpiar_datos(data_sucia, rango):\n  '''\n  data_sucia: dataframe recien sacado del pdf\n  rango: se refiere a la candidad de columnas vacias al inicio de cada pagina\n  '''\n  try:\n    data_sucia.rename(columns={data_sucia.columns[5]:'clasificacion visita'}, inplace=True)\n  except IndexError:\n    print('clasifi' )\n    print(data_sucia.columns )\n  datos_tabla = data_sucia[['UNIDAD ADMINISTRATIVA QUE REALIZA LA \\nVISITA DE INSPECCIÓN',\n       'NOMBRE DEL VISITADO', 'ESTADO', 'MUNICIPIO',\n       'REGIÓN HIDROLÓGICA \\nADMINISTRATIVA',\n       'clasificacion visita',\n       'FECHA DE VISITA (DD/MM/AA.)']]\n  return datos_tabla.drop(rango,axis=0).reset_index(drop=True)",
   "execution_count": null,
   "outputs": []
  },
  {
   "cell_type": "code",
   "metadata": {
    "tags": [],
    "cell_id": "00002-1dac913e-7d0a-4fbd-a844-a37570210b59",
    "deepnote_to_be_reexecuted": false,
    "source_hash": "41f2d00a",
    "execution_start": 1625685050672,
    "execution_millis": 1,
    "deepnote_cell_type": "code"
   },
   "source": "def juntar_por_anio(lista_df, rango):\n  \"\"\"\n  lista_df: una lista que contiene dataframes\n  rango: se refiere a la candidad de columnas vacias al inicio de cada pagina\n  \"\"\"\n  all_df = pd.DataFrame()\n  for data in lista_df:\n    data=pd.read_csv(data)\n    all_df = pd.concat([limpiar_datos(data, rango), all_df]).reset_index(drop=True)\n  return all_df",
   "execution_count": null,
   "outputs": []
  },
  {
   "cell_type": "code",
   "metadata": {
    "tags": [],
    "cell_id": "00003-faf80430-24cd-4f8c-bd6d-292dd90469e9",
    "deepnote_to_be_reexecuted": false,
    "source_hash": "274bbf73",
    "execution_start": 1625685136276,
    "execution_millis": 2,
    "deepnote_cell_type": "code"
   },
   "source": "def generar_links(base, rango):\n  \"\"\"\n  base: el directorio donde quieres que se queden los csv\n  rango: candidad de csv\n  \"\"\"\n  links = []\n  for i in rango:\n    links.append(base+ str(i)+ '-page-' + str(i)+ '-table' + '-1')\n  return links",
   "execution_count": null,
   "outputs": []
  },
  {
   "cell_type": "code",
   "metadata": {
    "tags": [],
    "cell_id": "00004-1fe451d9-c53f-4541-886d-3ba8606eef05",
    "deepnote_cell_type": "code"
   },
   "source": "",
   "execution_count": null,
   "outputs": []
  },
  {
   "cell_type": "markdown",
   "source": "<a style='text-decoration:none;line-height:16px;display:flex;color:#5B5B62;padding:10px;justify-content:end;' href='https://deepnote.com?utm_source=created-in-deepnote-cell&projectId=18a37620-274d-4dd0-b7e1-8ff8f29e6977' target=\"_blank\">\n<img alt='Created in deepnote.com' style='display:inline;max-height:16px;margin:0px;margin-right:7.5px;' src='data:image/svg+xml;base64,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' > </img>\nCreated in <span style='font-weight:600;margin-left:4px;'>Deepnote</span></a>",
   "metadata": {
    "tags": [],
    "created_in_deepnote_cell": true,
    "deepnote_cell_type": "markdown"
   }
  }
 ],
 "nbformat": 4,
 "nbformat_minor": 2,
 "metadata": {
  "orig_nbformat": 2,
  "deepnote": {
   "is_reactive": false
  },
  "deepnote_notebook_id": "777f91c6-c4aa-4179-998f-acdb6523f86b",
  "deepnote_execution_queue": []
 }
}