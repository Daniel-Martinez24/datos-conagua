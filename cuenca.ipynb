{
  "nbformat": 4,
  "nbformat_minor": 0,
  "metadata": {
    "colab": {
      "name": "cuenca",
      "provenance": [],
      "collapsed_sections": [],
      "mount_file_id": "1Tdiz7SxUmc05cDKP9L0TovATKWEGlV6C",
      "authorship_tag": "ABX9TyOSYIFOUi42uTG7hOh6LfQ9",
      "include_colab_link": true
    },
    "kernelspec": {
      "name": "python3",
      "display_name": "Python 3"
    },
    "language_info": {
      "name": "python"
    }
  },
  "cells": [
    {
      "cell_type": "markdown",
      "metadata": {
        "id": "view-in-github",
        "colab_type": "text"
      },
      "source": [
        "<a href=\"https://colab.research.google.com/github/Daniel-Martinez24/datos-conagua/blob/main/cuenca.ipynb\" target=\"_parent\"><img src=\"https://colab.research.google.com/assets/colab-badge.svg\" alt=\"Open In Colab\"/></a>"
      ]
    },
    {
      "cell_type": "markdown",
      "metadata": {
        "id": "YyUrTbd1b62q"
      },
      "source": [
        "## Preguntas\n",
        "\n",
        "\n",
        "1.   ¿Cuantas personas trabajan en la cuenca?\n",
        "2.  ¿Cuantas pertencen al ORGANISMO DE CUENCA LERMA SANTIAGO PACIFIC?\n",
        "\n",
        "Nota: la posible respuesta de la segunda es 284 segun la revisión rapida\n",
        "\n"
      ]
    },
    {
      "cell_type": "code",
      "metadata": {
        "id": "10Rq4lcub49L"
      },
      "source": [
        "import pandas as pd\n",
        "import io"
      ],
      "execution_count": 1,
      "outputs": []
    },
    {
      "cell_type": "code",
      "metadata": {
        "colab": {
          "base_uri": "https://localhost:8080/"
        },
        "id": "pzejoFqUcNJQ",
        "outputId": "b611b4ee-8bc6-49c0-e78f-d8924ef193ac"
      },
      "source": [
        "# instalar tabula-py libreria para analisis de pdf\n",
        "!pip install tabula-py"
      ],
      "execution_count": 2,
      "outputs": [
        {
          "output_type": "stream",
          "text": [
            "Collecting tabula-py\n",
            "  Downloading tabula_py-2.2.0-py3-none-any.whl (11.7 MB)\n",
            "\u001b[K     |████████████████████████████████| 11.7 MB 220 kB/s \n",
            "\u001b[?25hRequirement already satisfied: pandas>=0.25.3 in /usr/local/lib/python3.7/dist-packages (from tabula-py) (1.1.5)\n",
            "Requirement already satisfied: numpy in /usr/local/lib/python3.7/dist-packages (from tabula-py) (1.19.5)\n",
            "Collecting distro\n",
            "  Downloading distro-1.6.0-py2.py3-none-any.whl (19 kB)\n",
            "Requirement already satisfied: python-dateutil>=2.7.3 in /usr/local/lib/python3.7/dist-packages (from pandas>=0.25.3->tabula-py) (2.8.2)\n",
            "Requirement already satisfied: pytz>=2017.2 in /usr/local/lib/python3.7/dist-packages (from pandas>=0.25.3->tabula-py) (2018.9)\n",
            "Requirement already satisfied: six>=1.5 in /usr/local/lib/python3.7/dist-packages (from python-dateutil>=2.7.3->pandas>=0.25.3->tabula-py) (1.15.0)\n",
            "Installing collected packages: distro, tabula-py\n",
            "Successfully installed distro-1.6.0 tabula-py-2.2.0\n"
          ],
          "name": "stdout"
        }
      ]
    },
    {
      "cell_type": "code",
      "metadata": {
        "id": "sUo5cCmHcl06"
      },
      "source": [
        "# link# import tabula\n",
        "from tabula.io import read_pdf\n",
        "#the pd is the standard shorthand for pandas\n",
        "import pandas as pd"
      ],
      "execution_count": 3,
      "outputs": []
    },
    {
      "cell_type": "code",
      "metadata": {
        "id": "j7Yp5vTEdmOv"
      },
      "source": [
        "pdfCuencua = '/content/drive/MyDrive/proyectos/cuenca/Plantilla del personal.pdf'"
      ],
      "execution_count": 4,
      "outputs": []
    },
    {
      "cell_type": "code",
      "metadata": {
        "colab": {
          "base_uri": "https://localhost:8080/",
          "height": 203
        },
        "id": "UECqQ8TidBMy",
        "outputId": "3026bc44-d804-4cbb-b103-964351a0e492"
      },
      "source": [
        "# DF es una lista de DF\n",
        "df = read_pdf(pdfCuencua, multiple_tables=True, pages='all')\n",
        "\n",
        "# ver la cola del ultimo elemento\n",
        "df[-1].tail()"
      ],
      "execution_count": 5,
      "outputs": [
        {
          "output_type": "execute_result",
          "data": {
            "text/html": [
              "<div>\n",
              "<style scoped>\n",
              "    .dataframe tbody tr th:only-of-type {\n",
              "        vertical-align: middle;\n",
              "    }\n",
              "\n",
              "    .dataframe tbody tr th {\n",
              "        vertical-align: top;\n",
              "    }\n",
              "\n",
              "    .dataframe thead th {\n",
              "        text-align: right;\n",
              "    }\n",
              "</style>\n",
              "<table border=\"1\" class=\"dataframe\">\n",
              "  <thead>\n",
              "    <tr style=\"text-align: right;\">\n",
              "      <th></th>\n",
              "      <th>ZEPEDA</th>\n",
              "      <th>HERNANDEZ</th>\n",
              "      <th>JOSE LUIS</th>\n",
              "      <th>911</th>\n",
              "      <th>DIRECCION LOCAL GUERRERO PRESUPUESTAL</th>\n",
              "      <th>Unnamed: 0</th>\n",
              "      <th>7</th>\n",
              "      <th>BASE</th>\n",
              "    </tr>\n",
              "  </thead>\n",
              "  <tbody>\n",
              "    <tr>\n",
              "      <th>34</th>\n",
              "      <td>ZURITA</td>\n",
              "      <td>ESTRADA</td>\n",
              "      <td>OSCAR ARTURO</td>\n",
              "      <td>805</td>\n",
              "      <td>ORGANISMO DE CUENCA GOLFO CENTRO PRESUPUESTAL</td>\n",
              "      <td>NaN</td>\n",
              "      <td>7</td>\n",
              "      <td>BASE</td>\n",
              "    </tr>\n",
              "    <tr>\n",
              "      <th>35</th>\n",
              "      <td>ZURITA</td>\n",
              "      <td>MARTINEZ</td>\n",
              "      <td>MONICA CRISTEL</td>\n",
              "      <td>927</td>\n",
              "      <td>DIRECCION LOCAL TABASCO PRESUPUESTAL</td>\n",
              "      <td>NaN</td>\n",
              "      <td>7</td>\n",
              "      <td>BASE</td>\n",
              "    </tr>\n",
              "    <tr>\n",
              "      <th>36</th>\n",
              "      <td>ZURITA</td>\n",
              "      <td>MENDOZA</td>\n",
              "      <td>VICTOR RICARDO</td>\n",
              "      <td>921</td>\n",
              "      <td>DIRECCION LOCAL QUERETARO PRESUPUESTAL</td>\n",
              "      <td>NaN</td>\n",
              "      <td>7</td>\n",
              "      <td>BASE</td>\n",
              "    </tr>\n",
              "    <tr>\n",
              "      <th>37</th>\n",
              "      <td>ZURITA</td>\n",
              "      <td>ROGEL</td>\n",
              "      <td>VICTOR ANGEL</td>\n",
              "      <td>927</td>\n",
              "      <td>DIRECCION LOCAL TABASCO PRESUPUESTAL</td>\n",
              "      <td>NaN</td>\n",
              "      <td>8</td>\n",
              "      <td>BASE</td>\n",
              "    </tr>\n",
              "    <tr>\n",
              "      <th>38</th>\n",
              "      <td>NaN</td>\n",
              "      <td>LOPEZ</td>\n",
              "      <td>JOSE DE JESUS</td>\n",
              "      <td>801</td>\n",
              "      <td>ORGANISMO DE CUENCA AGUAS DEL VALLE DE MEXPICR...</td>\n",
              "      <td>NaN</td>\n",
              "      <td>7</td>\n",
              "      <td>BASE</td>\n",
              "    </tr>\n",
              "  </tbody>\n",
              "</table>\n",
              "</div>"
            ],
            "text/plain": [
              "    ZEPEDA HERNANDEZ       JOSE LUIS  ...  Unnamed: 0  7  BASE\n",
              "34  ZURITA   ESTRADA    OSCAR ARTURO  ...         NaN  7  BASE\n",
              "35  ZURITA  MARTINEZ  MONICA CRISTEL  ...         NaN  7  BASE\n",
              "36  ZURITA   MENDOZA  VICTOR RICARDO  ...         NaN  7  BASE\n",
              "37  ZURITA     ROGEL    VICTOR ANGEL  ...         NaN  8  BASE\n",
              "38     NaN     LOPEZ   JOSE DE JESUS  ...         NaN  7  BASE\n",
              "\n",
              "[5 rows x 8 columns]"
            ]
          },
          "metadata": {
            "tags": []
          },
          "execution_count": 5
        }
      ]
    },
    {
      "cell_type": "code",
      "metadata": {
        "id": "1VkIAiSle-77"
      },
      "source": [
        ""
      ],
      "execution_count": 5,
      "outputs": []
    }
  ]
}